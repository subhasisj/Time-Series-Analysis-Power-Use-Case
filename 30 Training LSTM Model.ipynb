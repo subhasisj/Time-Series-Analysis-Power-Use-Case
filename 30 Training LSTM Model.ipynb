{
 "cells": [
  {
   "cell_type": "code",
   "execution_count": 1,
   "metadata": {},
   "outputs": [
    {
     "name": "stdout",
     "output_type": "stream",
     "text": [
      "Requirement already satisfied: tensorflow in /opt/conda/lib/python3.7/site-packages (2.1.0)\n",
      "Requirement already satisfied: opt-einsum>=2.3.2 in /opt/conda/lib/python3.7/site-packages (from tensorflow) (3.2.0)\n",
      "Requirement already satisfied: six>=1.12.0 in /opt/conda/lib/python3.7/site-packages (from tensorflow) (1.14.0)\n",
      "Requirement already satisfied: scipy==1.4.1; python_version >= \"3\" in /opt/conda/lib/python3.7/site-packages (from tensorflow) (1.4.1)\n",
      "Requirement already satisfied: absl-py>=0.7.0 in /opt/conda/lib/python3.7/site-packages (from tensorflow) (0.9.0)\n",
      "Requirement already satisfied: tensorflow-estimator<2.2.0,>=2.1.0rc0 in /opt/conda/lib/python3.7/site-packages (from tensorflow) (2.1.0)\n",
      "Requirement already satisfied: grpcio>=1.8.6 in /opt/conda/lib/python3.7/site-packages (from tensorflow) (1.27.2)\n",
      "Requirement already satisfied: protobuf>=3.8.0 in /opt/conda/lib/python3.7/site-packages (from tensorflow) (3.11.3)\n",
      "Requirement already satisfied: astor>=0.6.0 in /opt/conda/lib/python3.7/site-packages (from tensorflow) (0.8.1)\n",
      "Requirement already satisfied: wrapt>=1.11.1 in /opt/conda/lib/python3.7/site-packages (from tensorflow) (1.12.1)\n",
      "Requirement already satisfied: gast==0.2.2 in /opt/conda/lib/python3.7/site-packages (from tensorflow) (0.2.2)\n",
      "Requirement already satisfied: google-pasta>=0.1.6 in /opt/conda/lib/python3.7/site-packages (from tensorflow) (0.2.0)\n",
      "Requirement already satisfied: numpy<2.0,>=1.16.0 in /opt/conda/lib/python3.7/site-packages (from tensorflow) (1.18.1)\n",
      "Requirement already satisfied: termcolor>=1.1.0 in /opt/conda/lib/python3.7/site-packages (from tensorflow) (1.1.0)\n",
      "Requirement already satisfied: wheel>=0.26; python_version >= \"3\" in /opt/conda/lib/python3.7/site-packages (from tensorflow) (0.33.4)\n",
      "Requirement already satisfied: keras-preprocessing>=1.1.0 in /opt/conda/lib/python3.7/site-packages (from tensorflow) (1.1.0)\n",
      "Requirement already satisfied: keras-applications>=1.0.8 in /opt/conda/lib/python3.7/site-packages (from tensorflow) (1.0.8)\n",
      "Requirement already satisfied: tensorboard<2.2.0,>=2.1.0 in /opt/conda/lib/python3.7/site-packages (from tensorflow) (2.1.1)\n",
      "Requirement already satisfied: setuptools in /opt/conda/lib/python3.7/site-packages (from protobuf>=3.8.0->tensorflow) (41.0.1)\n",
      "Requirement already satisfied: h5py in /opt/conda/lib/python3.7/site-packages (from keras-applications>=1.0.8->tensorflow) (2.10.0)\n",
      "Requirement already satisfied: google-auth-oauthlib<0.5,>=0.4.1 in /opt/conda/lib/python3.7/site-packages (from tensorboard<2.2.0,>=2.1.0->tensorflow) (0.4.1)\n",
      "Requirement already satisfied: requests<3,>=2.21.0 in /opt/conda/lib/python3.7/site-packages (from tensorboard<2.2.0,>=2.1.0->tensorflow) (2.21.0)\n",
      "Requirement already satisfied: google-auth<2,>=1.6.3 in /opt/conda/lib/python3.7/site-packages (from tensorboard<2.2.0,>=2.1.0->tensorflow) (1.13.1)\n",
      "Requirement already satisfied: markdown>=2.6.8 in /opt/conda/lib/python3.7/site-packages (from tensorboard<2.2.0,>=2.1.0->tensorflow) (3.2.1)\n",
      "Requirement already satisfied: werkzeug>=0.11.15 in /opt/conda/lib/python3.7/site-packages (from tensorboard<2.2.0,>=2.1.0->tensorflow) (1.0.1)\n",
      "Requirement already satisfied: requests-oauthlib>=0.7.0 in /opt/conda/lib/python3.7/site-packages (from google-auth-oauthlib<0.5,>=0.4.1->tensorboard<2.2.0,>=2.1.0->tensorflow) (1.3.0)\n",
      "Requirement already satisfied: idna<2.9,>=2.5 in /opt/conda/lib/python3.7/site-packages (from requests<3,>=2.21.0->tensorboard<2.2.0,>=2.1.0->tensorflow) (2.8)\n",
      "Requirement already satisfied: certifi>=2017.4.17 in /opt/conda/lib/python3.7/site-packages (from requests<3,>=2.21.0->tensorboard<2.2.0,>=2.1.0->tensorflow) (2019.11.28)\n",
      "Requirement already satisfied: chardet<3.1.0,>=3.0.2 in /opt/conda/lib/python3.7/site-packages (from requests<3,>=2.21.0->tensorboard<2.2.0,>=2.1.0->tensorflow) (3.0.4)\n",
      "Requirement already satisfied: urllib3<1.25,>=1.21.1 in /opt/conda/lib/python3.7/site-packages (from requests<3,>=2.21.0->tensorboard<2.2.0,>=2.1.0->tensorflow) (1.24.3)\n",
      "Requirement already satisfied: cachetools<5.0,>=2.0.0 in /opt/conda/lib/python3.7/site-packages (from google-auth<2,>=1.6.3->tensorboard<2.2.0,>=2.1.0->tensorflow) (4.0.0)\n",
      "Requirement already satisfied: pyasn1-modules>=0.2.1 in /opt/conda/lib/python3.7/site-packages (from google-auth<2,>=1.6.3->tensorboard<2.2.0,>=2.1.0->tensorflow) (0.2.8)\n",
      "Requirement already satisfied: rsa<4.1,>=3.1.4 in /opt/conda/lib/python3.7/site-packages (from google-auth<2,>=1.6.3->tensorboard<2.2.0,>=2.1.0->tensorflow) (4.0)\n",
      "Requirement already satisfied: oauthlib>=3.0.0 in /opt/conda/lib/python3.7/site-packages (from requests-oauthlib>=0.7.0->google-auth-oauthlib<0.5,>=0.4.1->tensorboard<2.2.0,>=2.1.0->tensorflow) (3.1.0)\n",
      "Requirement already satisfied: pyasn1<0.5.0,>=0.4.6 in /opt/conda/lib/python3.7/site-packages (from pyasn1-modules>=0.2.1->google-auth<2,>=1.6.3->tensorboard<2.2.0,>=2.1.0->tensorflow) (0.4.8)\n"
     ]
    }
   ],
   "source": [
    "# Uncomment below line and execute it Tensorflow is not installed\n",
    "\n",
    "!pip install tensorflow"
   ]
  },
  {
   "cell_type": "markdown",
   "metadata": {},
   "source": [
    "### Import Libraries"
   ]
  },
  {
   "cell_type": "code",
   "execution_count": 2,
   "metadata": {},
   "outputs": [],
   "source": [
    "import pandas as pd\n",
    "import numpy as np\n",
    "\n",
    "from hdfs import InsecureClient\n",
    "from sapdi import tracking\n",
    "\n",
    "%matplotlib inline\n",
    "import matplotlib.pyplot as plt\n",
    "from pylab import rcParams\n",
    "rcParams['figure.figsize'] = 12, 10\n",
    "import time\n",
    "\n",
    "\n",
    "import tensorflow as tf\n",
    "from tensorflow.keras.models import Sequential\n",
    "from sklearn.preprocessing import MinMaxScaler\n",
    "from tensorflow.keras.layers import Dense, LSTM, Dropout ,Activation\n",
    "from sklearn.metrics import mean_squared_error\n",
    "from tensorflow.keras.callbacks import EarlyStopping\n",
    "from tensorflow.keras.optimizers import Adam\n",
    "\n",
    "np.random.seed(20)\n",
    "\n",
    "import warnings\n",
    "warnings.filterwarnings('ignore')"
   ]
  },
  {
   "cell_type": "markdown",
   "metadata": {},
   "source": [
    "### Read Data"
   ]
  },
  {
   "cell_type": "code",
   "execution_count": 3,
   "metadata": {},
   "outputs": [],
   "source": [
    "client = InsecureClient('http://datalake:50070')\n",
    "with client.read('/shared/ml/data/Power_Analysis/Household Power train data/household_power_consumption_hours.csv',\n",
    "                 encoding = 'utf-8') as reader:\n",
    "    \n",
    "    df = pd.read_csv(reader,\n",
    "                     index_col=[0],\n",
    "                     date_parser= pd.to_datetime,\n",
    "                     infer_datetime_format=True,\n",
    "                     low_memory=False\n",
    "                    )"
   ]
  },
  {
   "cell_type": "code",
   "execution_count": 4,
   "metadata": {},
   "outputs": [
    {
     "data": {
      "text/html": [
       "<div>\n",
       "<style scoped>\n",
       "    .dataframe tbody tr th:only-of-type {\n",
       "        vertical-align: middle;\n",
       "    }\n",
       "\n",
       "    .dataframe tbody tr th {\n",
       "        vertical-align: top;\n",
       "    }\n",
       "\n",
       "    .dataframe thead th {\n",
       "        text-align: right;\n",
       "    }\n",
       "</style>\n",
       "<table border=\"1\" class=\"dataframe\">\n",
       "  <thead>\n",
       "    <tr style=\"text-align: right;\">\n",
       "      <th></th>\n",
       "      <th>Global_active_power</th>\n",
       "      <th>Global_reactive_power</th>\n",
       "      <th>Voltage</th>\n",
       "      <th>Global_intensity</th>\n",
       "      <th>Sub_metering_1</th>\n",
       "      <th>Sub_metering_2</th>\n",
       "      <th>Sub_metering_3</th>\n",
       "    </tr>\n",
       "    <tr>\n",
       "      <th>datetime</th>\n",
       "      <th></th>\n",
       "      <th></th>\n",
       "      <th></th>\n",
       "      <th></th>\n",
       "      <th></th>\n",
       "      <th></th>\n",
       "      <th></th>\n",
       "    </tr>\n",
       "  </thead>\n",
       "  <tbody>\n",
       "    <tr>\n",
       "      <th>2006-12-16 17:00:00</th>\n",
       "      <td>152.024</td>\n",
       "      <td>8.244</td>\n",
       "      <td>8447.18</td>\n",
       "      <td>651.6</td>\n",
       "      <td>0.0</td>\n",
       "      <td>19.0</td>\n",
       "      <td>607.0</td>\n",
       "    </tr>\n",
       "    <tr>\n",
       "      <th>2006-12-16 18:00:00</th>\n",
       "      <td>217.932</td>\n",
       "      <td>4.802</td>\n",
       "      <td>14074.81</td>\n",
       "      <td>936.0</td>\n",
       "      <td>0.0</td>\n",
       "      <td>403.0</td>\n",
       "      <td>1012.0</td>\n",
       "    </tr>\n",
       "    <tr>\n",
       "      <th>2006-12-16 19:00:00</th>\n",
       "      <td>204.014</td>\n",
       "      <td>5.114</td>\n",
       "      <td>13993.95</td>\n",
       "      <td>870.2</td>\n",
       "      <td>0.0</td>\n",
       "      <td>86.0</td>\n",
       "      <td>1001.0</td>\n",
       "    </tr>\n",
       "    <tr>\n",
       "      <th>2006-12-16 20:00:00</th>\n",
       "      <td>196.114</td>\n",
       "      <td>4.506</td>\n",
       "      <td>14044.29</td>\n",
       "      <td>835.0</td>\n",
       "      <td>0.0</td>\n",
       "      <td>0.0</td>\n",
       "      <td>1007.0</td>\n",
       "    </tr>\n",
       "    <tr>\n",
       "      <th>2006-12-16 21:00:00</th>\n",
       "      <td>183.388</td>\n",
       "      <td>4.600</td>\n",
       "      <td>14229.52</td>\n",
       "      <td>782.8</td>\n",
       "      <td>0.0</td>\n",
       "      <td>25.0</td>\n",
       "      <td>1033.0</td>\n",
       "    </tr>\n",
       "  </tbody>\n",
       "</table>\n",
       "</div>"
      ],
      "text/plain": [
       "                     Global_active_power  Global_reactive_power   Voltage  \\\n",
       "datetime                                                                    \n",
       "2006-12-16 17:00:00              152.024                  8.244   8447.18   \n",
       "2006-12-16 18:00:00              217.932                  4.802  14074.81   \n",
       "2006-12-16 19:00:00              204.014                  5.114  13993.95   \n",
       "2006-12-16 20:00:00              196.114                  4.506  14044.29   \n",
       "2006-12-16 21:00:00              183.388                  4.600  14229.52   \n",
       "\n",
       "                     Global_intensity  Sub_metering_1  Sub_metering_2  \\\n",
       "datetime                                                                \n",
       "2006-12-16 17:00:00             651.6             0.0            19.0   \n",
       "2006-12-16 18:00:00             936.0             0.0           403.0   \n",
       "2006-12-16 19:00:00             870.2             0.0            86.0   \n",
       "2006-12-16 20:00:00             835.0             0.0             0.0   \n",
       "2006-12-16 21:00:00             782.8             0.0            25.0   \n",
       "\n",
       "                     Sub_metering_3  \n",
       "datetime                             \n",
       "2006-12-16 17:00:00           607.0  \n",
       "2006-12-16 18:00:00          1012.0  \n",
       "2006-12-16 19:00:00          1001.0  \n",
       "2006-12-16 20:00:00          1007.0  \n",
       "2006-12-16 21:00:00          1033.0  "
      ]
     },
     "execution_count": 4,
     "metadata": {},
     "output_type": "execute_result"
    }
   ],
   "source": [
    "df.head()"
   ]
  },
  {
   "cell_type": "markdown",
   "metadata": {},
   "source": [
    "### Split into Training and Test Sets"
   ]
  },
  {
   "cell_type": "code",
   "execution_count": 5,
   "metadata": {},
   "outputs": [
    {
     "name": "stdout",
     "output_type": "stream",
     "text": [
      "Training Set Shape : (34489, 7)\n",
      "Testing Set Shape : (100, 7)\n"
     ]
    }
   ],
   "source": [
    "df_train = df.iloc[:-100]\n",
    "df_test = df.iloc[-100:]\n",
    "\n",
    "print('Training Set Shape : {}'.format(df_train.shape))\n",
    "print('Testing Set Shape : {}'.format(df_test.shape))"
   ]
  },
  {
   "cell_type": "code",
   "execution_count": 6,
   "metadata": {},
   "outputs": [
    {
     "name": "stdout",
     "output_type": "stream",
     "text": [
      "<class 'pandas.core.frame.DataFrame'>\n",
      "DatetimeIndex: 34489 entries, 2006-12-16 17:00:00 to 2010-11-22 17:00:00\n",
      "Data columns (total 7 columns):\n",
      " #   Column                 Non-Null Count  Dtype  \n",
      "---  ------                 --------------  -----  \n",
      " 0   Global_active_power    34489 non-null  float64\n",
      " 1   Global_reactive_power  34489 non-null  float64\n",
      " 2   Voltage                34489 non-null  float64\n",
      " 3   Global_intensity       34489 non-null  float64\n",
      " 4   Sub_metering_1         34489 non-null  float64\n",
      " 5   Sub_metering_2         34489 non-null  float64\n",
      " 6   Sub_metering_3         34489 non-null  float64\n",
      "dtypes: float64(7)\n",
      "memory usage: 2.1 MB\n"
     ]
    }
   ],
   "source": [
    "df_train.info()"
   ]
  },
  {
   "cell_type": "code",
   "execution_count": 7,
   "metadata": {},
   "outputs": [
    {
     "name": "stdout",
     "output_type": "stream",
     "text": [
      "<class 'pandas.core.frame.DataFrame'>\n",
      "DatetimeIndex: 100 entries, 2010-11-22 18:00:00 to 2010-11-26 21:00:00\n",
      "Data columns (total 7 columns):\n",
      " #   Column                 Non-Null Count  Dtype  \n",
      "---  ------                 --------------  -----  \n",
      " 0   Global_active_power    100 non-null    float64\n",
      " 1   Global_reactive_power  100 non-null    float64\n",
      " 2   Voltage                100 non-null    float64\n",
      " 3   Global_intensity       100 non-null    float64\n",
      " 4   Sub_metering_1         100 non-null    float64\n",
      " 5   Sub_metering_2         100 non-null    float64\n",
      " 6   Sub_metering_3         100 non-null    float64\n",
      "dtypes: float64(7)\n",
      "memory usage: 6.2 KB\n"
     ]
    }
   ],
   "source": [
    "df_test.info()"
   ]
  },
  {
   "cell_type": "markdown",
   "metadata": {},
   "source": [
    "### Prepare the data for Training"
   ]
  },
  {
   "cell_type": "code",
   "execution_count": 8,
   "metadata": {},
   "outputs": [],
   "source": [
    "look_back = 40"
   ]
  },
  {
   "cell_type": "code",
   "execution_count": 9,
   "metadata": {},
   "outputs": [],
   "source": [
    "scaler = MinMaxScaler(feature_range=(0, 1))\n",
    "train_data = df_train.Global_active_power.values\n",
    "train_data = train_data.reshape((-1,1))\n",
    "scaler.fit(train_data)\n",
    "train_data_scaled = scaler.transform(train_data)\n",
    "\n",
    "test_data = df_test.Global_active_power.values\n",
    "test_data = test_data.reshape((-1,1))\n",
    "test_data_scaled = scaler.transform(test_data)"
   ]
  },
  {
   "cell_type": "code",
   "execution_count": 10,
   "metadata": {},
   "outputs": [],
   "source": [
    "def prepare_dataset(dataset, look_back=1):\n",
    "    features, labels = [], []\n",
    "    for i in range(len(dataset)-look_back-1):\n",
    "        a = dataset[i:(i+look_back), 0]\n",
    "        features.append(a)\n",
    "        labels.append(dataset[i + look_back, 0])\n",
    "    return np.array(features), np.array(labels)\n",
    "\n",
    "X_train, Y_train = prepare_dataset(train_data_scaled, look_back)\n",
    "X_test, Y_test = prepare_dataset(test_data_scaled, look_back)"
   ]
  },
  {
   "cell_type": "code",
   "execution_count": 11,
   "metadata": {},
   "outputs": [],
   "source": [
    "# reshape input to be [samples, time steps, features]\n",
    "X_train = np.reshape(X_train, (X_train.shape[0], 1, X_train.shape[1]))\n",
    "X_test = np.reshape(X_test, (X_test.shape[0], 1, X_test.shape[1]))"
   ]
  },
  {
   "cell_type": "code",
   "execution_count": 12,
   "metadata": {},
   "outputs": [
    {
     "data": {
      "text/plain": [
       "(34448, 1, 40)"
      ]
     },
     "execution_count": 12,
     "metadata": {},
     "output_type": "execute_result"
    }
   ],
   "source": [
    "X_train.shape"
   ]
  },
  {
   "cell_type": "markdown",
   "metadata": {},
   "source": [
    "### Define the Model Architecture"
   ]
  },
  {
   "cell_type": "code",
   "execution_count": 13,
   "metadata": {},
   "outputs": [],
   "source": [
    "def get_model():\n",
    "    model = Sequential()\n",
    "    model.add(LSTM(100,activation='relu',input_shape=(X_train.shape[1],X_train.shape[2])))\n",
    "    model.add(Dropout(rate=0.2))\n",
    "    model.add(Dense(50))\n",
    "    model.add(Dropout(rate=0.4))\n",
    "    model.add(Dense(1))\n",
    "    optimizer = Adam(lr=0.001)\n",
    "    model.compile(optimizer= optimizer, loss='mse')\n",
    "  \n",
    "    return model"
   ]
  },
  {
   "cell_type": "code",
   "execution_count": 14,
   "metadata": {},
   "outputs": [
    {
     "name": "stdout",
     "output_type": "stream",
     "text": [
      "Model: \"sequential\"\n",
      "_________________________________________________________________\n",
      "Layer (type)                 Output Shape              Param #   \n",
      "=================================================================\n",
      "lstm (LSTM)                  (None, 100)               56400     \n",
      "_________________________________________________________________\n",
      "dropout (Dropout)            (None, 100)               0         \n",
      "_________________________________________________________________\n",
      "dense (Dense)                (None, 50)                5050      \n",
      "_________________________________________________________________\n",
      "dropout_1 (Dropout)          (None, 50)                0         \n",
      "_________________________________________________________________\n",
      "dense_1 (Dense)              (None, 1)                 51        \n",
      "=================================================================\n",
      "Total params: 61,501\n",
      "Trainable params: 61,501\n",
      "Non-trainable params: 0\n",
      "_________________________________________________________________\n"
     ]
    }
   ],
   "source": [
    "model = get_model()\n",
    "model.summary()"
   ]
  },
  {
   "cell_type": "markdown",
   "metadata": {},
   "source": [
    "### Start Model Training"
   ]
  },
  {
   "cell_type": "code",
   "execution_count": 15,
   "metadata": {},
   "outputs": [
    {
     "name": "stdout",
     "output_type": "stream",
     "text": [
      "Train on 23080 samples, validate on 11368 samples\n",
      "Epoch 1/30\n",
      "23080/23080 [==============================] - 4s 165us/sample - loss: 0.0156 - val_loss: 0.0108\n",
      "Epoch 2/30\n",
      "23080/23080 [==============================] - 2s 107us/sample - loss: 0.0109 - val_loss: 0.0102\n",
      "Epoch 3/30\n",
      "23080/23080 [==============================] - 2s 105us/sample - loss: 0.0102 - val_loss: 0.0097\n",
      "Epoch 4/30\n",
      "23080/23080 [==============================] - 2s 104us/sample - loss: 0.0100 - val_loss: 0.0086\n",
      "Epoch 5/30\n",
      "23080/23080 [==============================] - 2s 103us/sample - loss: 0.0096 - val_loss: 0.0085\n",
      "Epoch 6/30\n",
      "23080/23080 [==============================] - 2s 101us/sample - loss: 0.0095 - val_loss: 0.0085\n",
      "Epoch 7/30\n",
      "23080/23080 [==============================] - 2s 104us/sample - loss: 0.0095 - val_loss: 0.0085\n",
      "Epoch 8/30\n",
      "23080/23080 [==============================] - 2s 104us/sample - loss: 0.0094 - val_loss: 0.0083\n",
      "Epoch 9/30\n",
      "23080/23080 [==============================] - 2s 103us/sample - loss: 0.0093 - val_loss: 0.0081\n",
      "Epoch 10/30\n",
      "23080/23080 [==============================] - 2s 103us/sample - loss: 0.0092 - val_loss: 0.0082\n",
      "Epoch 11/30\n",
      "23080/23080 [==============================] - 2s 104us/sample - loss: 0.0091 - val_loss: 0.0083\n",
      "Epoch 12/30\n",
      "23080/23080 [==============================] - 2s 104us/sample - loss: 0.0091 - val_loss: 0.0083\n",
      "Epoch 13/30\n",
      "23080/23080 [==============================] - 2s 104us/sample - loss: 0.0090 - val_loss: 0.0081\n",
      "Epoch 14/30\n",
      "23080/23080 [==============================] - 2s 104us/sample - loss: 0.0090 - val_loss: 0.0082\n",
      "Epoch 15/30\n",
      "23080/23080 [==============================] - 2s 103us/sample - loss: 0.0089 - val_loss: 0.0081\n",
      "Epoch 16/30\n",
      "23080/23080 [==============================] - 2s 104us/sample - loss: 0.0089 - val_loss: 0.0081\n",
      "Epoch 17/30\n",
      "23080/23080 [==============================] - 2s 101us/sample - loss: 0.0089 - val_loss: 0.0079\n",
      "Epoch 18/30\n",
      "23080/23080 [==============================] - 2s 103us/sample - loss: 0.0088 - val_loss: 0.0080\n",
      "Epoch 19/30\n",
      "23080/23080 [==============================] - 2s 101us/sample - loss: 0.0088 - val_loss: 0.0079\n",
      "Epoch 20/30\n",
      "23080/23080 [==============================] - 2s 103us/sample - loss: 0.0088 - val_loss: 0.0081\n",
      "Epoch 21/30\n",
      "23080/23080 [==============================] - 2s 103us/sample - loss: 0.0089 - val_loss: 0.0080\n",
      "Epoch 22/30\n",
      "23080/23080 [==============================] - 2s 100us/sample - loss: 0.0088 - val_loss: 0.0081\n",
      "Epoch 23/30\n",
      "23080/23080 [==============================] - 2s 101us/sample - loss: 0.0087 - val_loss: 0.0079\n",
      "Epoch 24/30\n",
      "23080/23080 [==============================] - 2s 103us/sample - loss: 0.0087 - val_loss: 0.0079\n",
      "Epoch 25/30\n",
      "23080/23080 [==============================] - 2s 101us/sample - loss: 0.0086 - val_loss: 0.0080\n",
      "Epoch 26/30\n",
      "23080/23080 [==============================] - 2s 103us/sample - loss: 0.0088 - val_loss: 0.0078\n",
      "Epoch 27/30\n",
      "23080/23080 [==============================] - 2s 100us/sample - loss: 0.0087 - val_loss: 0.0079\n",
      "Epoch 28/30\n",
      "23080/23080 [==============================] - 2s 104us/sample - loss: 0.0086 - val_loss: 0.0078\n",
      "Epoch 29/30\n",
      "23080/23080 [==============================] - 2s 100us/sample - loss: 0.0086 - val_loss: 0.0078\n",
      "Epoch 30/30\n",
      "23080/23080 [==============================] - 2s 100us/sample - loss: 0.0086 - val_loss: 0.0079\n",
      "\n",
      " LSTM Training Completed in 72.95850586891174 seconds\n"
     ]
    }
   ],
   "source": [
    "start = time.time()\n",
    "run = tracking.start_run(run_collection_name='power_consumption_run')\n",
    "try:\n",
    "    history = model.fit(X_train, Y_train, epochs=30, batch_size=128, validation_split = 0.33, \n",
    "                    callbacks=[EarlyStopping(monitor='val_loss', patience=10)], verbose=1, shuffle=False)\n",
    "\n",
    "except KeyboardInterrupt:\n",
    "    model.save('time_series_model.h5')\n",
    "    print('Model Saved because of user input')   \n",
    "\n",
    "print('\\n LSTM Training Completed in {} seconds'.format(time.time()-start))"
   ]
  },
  {
   "cell_type": "code",
   "execution_count": 16,
   "metadata": {},
   "outputs": [],
   "source": [
    "tracking.log_parameters(parameters = {'n_epochs':history.params['epochs']})"
   ]
  },
  {
   "cell_type": "code",
   "execution_count": 17,
   "metadata": {},
   "outputs": [
    {
     "data": {
      "image/png": "[encoded data removed]",
      "text/plain": [
       "<Figure size 576x288 with 1 Axes>"
      ]
     },
     "metadata": {
      "needs_background": "light"
     },
     "output_type": "display_data"
    }
   ],
   "source": [
    "plt.figure(figsize=(8,4))\n",
    "plt.plot(history.history['loss'], label='Train Loss')\n",
    "plt.plot(history.history['val_loss'], label='Validation Loss')\n",
    "plt.title('model loss')\n",
    "plt.ylabel('loss')\n",
    "plt.xlabel('epochs')\n",
    "plt.legend(loc='upper right')\n",
    "plt.show()"
   ]
  },
  {
   "cell_type": "code",
   "execution_count": 18,
   "metadata": {},
   "outputs": [],
   "source": [
    "test_predict = model.predict(X_test)"
   ]
  },
  {
   "cell_type": "code",
   "execution_count": 19,
   "metadata": {},
   "outputs": [],
   "source": [
    "test_predictions_scaled = scaler.inverse_transform(test_predict.reshape(-1,1))"
   ]
  },
  {
   "cell_type": "code",
   "execution_count": 20,
   "metadata": {},
   "outputs": [],
   "source": [
    "from sklearn.metrics import mean_squared_error\n",
    "lstm_rmse = np.sqrt(mean_squared_error(scaler.inverse_transform(Y_test.reshape(-1,1)), test_predictions_scaled))"
   ]
  },
  {
   "cell_type": "code",
   "execution_count": 21,
   "metadata": {},
   "outputs": [
    {
     "name": "stdout",
     "output_type": "stream",
     "text": [
      "RMSE with LSTM Model is 26.100054786838413\n"
     ]
    }
   ],
   "source": [
    "print('RMSE with LSTM Model is {}'.format(lstm_rmse))"
   ]
  },
  {
   "cell_type": "code",
   "execution_count": 22,
   "metadata": {},
   "outputs": [],
   "source": [
    "tracking.log_metric('RMSE' , lstm_rmse )\n",
    "tracking.set_tags({\n",
    "    \"model\" : \"LSTM\"\n",
    "})\n",
    "\n",
    "tracking.end_run()"
   ]
  },
  {
   "cell_type": "markdown",
   "metadata": {},
   "source": [
    "### Now that we have saved our model let's make some future predictions and plot them"
   ]
  },
  {
   "cell_type": "code",
   "execution_count": 23,
   "metadata": {},
   "outputs": [],
   "source": [
    "original_data = df.Global_active_power.values\n",
    "original_data = original_data.reshape((-1,1))\n",
    "scaler.fit(original_data)\n",
    "original_data_scaled = scaler.transform(original_data)"
   ]
  },
  {
   "cell_type": "code",
   "execution_count": 24,
   "metadata": {},
   "outputs": [],
   "source": [
    "def generate_lstm_forecasts(num_prediction, model):\n",
    "    prediction_list = original_data_scaled[-look_back:]\n",
    "    \n",
    "    for _ in range(num_prediction):\n",
    "        row_for_next_prediction = prediction_list[-look_back:]\n",
    "        row_for_next_prediction = row_for_next_prediction.reshape((1, 1, look_back))\n",
    "        prediction = model.predict(row_for_next_prediction)[0][0]\n",
    "        prediction_list = np.append(prediction_list, prediction)\n",
    "        \n",
    "    prediction_list = prediction_list[look_back-1:]\n",
    "        \n",
    "    return prediction_list\n",
    "    \n",
    "def generate_future_timestamps(num_prediction):\n",
    "    last_date = df.index[-1]\n",
    "    prediction_dates = pd.date_range(last_date,freq='H', periods=num_prediction+1).tolist()\n",
    "    return prediction_dates\n"
   ]
  },
  {
   "cell_type": "code",
   "execution_count": 25,
   "metadata": {},
   "outputs": [],
   "source": [
    "num_prediction = 72\n",
    "forecast = generate_lstm_forecasts(num_prediction, model)\n",
    "forecast_dates = generate_future_timestamps(72)"
   ]
  },
  {
   "cell_type": "code",
   "execution_count": 26,
   "metadata": {},
   "outputs": [],
   "source": [
    "df_forecast = pd.DataFrame()\n",
    "df_forecast['datetime'] = forecast_dates\n",
    "df_forecast['Forecast_LSTM'] = scaler.inverse_transform(forecast.reshape(-1,1))"
   ]
  },
  {
   "cell_type": "code",
   "execution_count": 27,
   "metadata": {},
   "outputs": [
    {
     "data": {
      "text/html": [
       "<div>\n",
       "<style scoped>\n",
       "    .dataframe tbody tr th:only-of-type {\n",
       "        vertical-align: middle;\n",
       "    }\n",
       "\n",
       "    .dataframe tbody tr th {\n",
       "        vertical-align: top;\n",
       "    }\n",
       "\n",
       "    .dataframe thead th {\n",
       "        text-align: right;\n",
       "    }\n",
       "</style>\n",
       "<table border=\"1\" class=\"dataframe\">\n",
       "  <thead>\n",
       "    <tr style=\"text-align: right;\">\n",
       "      <th></th>\n",
       "      <th>Forecast_LSTM</th>\n",
       "    </tr>\n",
       "    <tr>\n",
       "      <th>datetime</th>\n",
       "      <th></th>\n",
       "    </tr>\n",
       "  </thead>\n",
       "  <tbody>\n",
       "    <tr>\n",
       "      <th>2010-11-26 21:00:00</th>\n",
       "      <td>2.804000</td>\n",
       "    </tr>\n",
       "    <tr>\n",
       "      <th>2010-11-26 22:00:00</th>\n",
       "      <td>9.322278</td>\n",
       "    </tr>\n",
       "    <tr>\n",
       "      <th>2010-11-26 23:00:00</th>\n",
       "      <td>13.850532</td>\n",
       "    </tr>\n",
       "    <tr>\n",
       "      <th>2010-11-27 00:00:00</th>\n",
       "      <td>14.306139</td>\n",
       "    </tr>\n",
       "    <tr>\n",
       "      <th>2010-11-27 01:00:00</th>\n",
       "      <td>17.047348</td>\n",
       "    </tr>\n",
       "  </tbody>\n",
       "</table>\n",
       "</div>"
      ],
      "text/plain": [
       "                     Forecast_LSTM\n",
       "datetime                          \n",
       "2010-11-26 21:00:00       2.804000\n",
       "2010-11-26 22:00:00       9.322278\n",
       "2010-11-26 23:00:00      13.850532\n",
       "2010-11-27 00:00:00      14.306139\n",
       "2010-11-27 01:00:00      17.047348"
      ]
     },
     "execution_count": 27,
     "metadata": {},
     "output_type": "execute_result"
    }
   ],
   "source": [
    "df_forecast.set_index('datetime',inplace=True)\n",
    "df_forecast.head()"
   ]
  },
  {
   "cell_type": "code",
   "execution_count": 28,
   "metadata": {},
   "outputs": [
    {
     "data": {
      "text/html": [
       "<div>\n",
       "<style scoped>\n",
       "    .dataframe tbody tr th:only-of-type {\n",
       "        vertical-align: middle;\n",
       "    }\n",
       "\n",
       "    .dataframe tbody tr th {\n",
       "        vertical-align: top;\n",
       "    }\n",
       "\n",
       "    .dataframe thead th {\n",
       "        text-align: right;\n",
       "    }\n",
       "</style>\n",
       "<table border=\"1\" class=\"dataframe\">\n",
       "  <thead>\n",
       "    <tr style=\"text-align: right;\">\n",
       "      <th></th>\n",
       "      <th>Forecast_LSTM</th>\n",
       "    </tr>\n",
       "    <tr>\n",
       "      <th>datetime</th>\n",
       "      <th></th>\n",
       "    </tr>\n",
       "  </thead>\n",
       "  <tbody>\n",
       "    <tr>\n",
       "      <th>2010-11-26 21:00:00</th>\n",
       "      <td>2.804000</td>\n",
       "    </tr>\n",
       "    <tr>\n",
       "      <th>2010-11-26 22:00:00</th>\n",
       "      <td>9.322278</td>\n",
       "    </tr>\n",
       "    <tr>\n",
       "      <th>2010-11-26 23:00:00</th>\n",
       "      <td>13.850532</td>\n",
       "    </tr>\n",
       "    <tr>\n",
       "      <th>2010-11-27 00:00:00</th>\n",
       "      <td>14.306139</td>\n",
       "    </tr>\n",
       "    <tr>\n",
       "      <th>2010-11-27 01:00:00</th>\n",
       "      <td>17.047348</td>\n",
       "    </tr>\n",
       "    <tr>\n",
       "      <th>2010-11-27 02:00:00</th>\n",
       "      <td>16.421514</td>\n",
       "    </tr>\n",
       "    <tr>\n",
       "      <th>2010-11-27 03:00:00</th>\n",
       "      <td>21.195101</td>\n",
       "    </tr>\n",
       "    <tr>\n",
       "      <th>2010-11-27 04:00:00</th>\n",
       "      <td>24.938005</td>\n",
       "    </tr>\n",
       "    <tr>\n",
       "      <th>2010-11-27 05:00:00</th>\n",
       "      <td>34.424664</td>\n",
       "    </tr>\n",
       "    <tr>\n",
       "      <th>2010-11-27 06:00:00</th>\n",
       "      <td>58.233568</td>\n",
       "    </tr>\n",
       "    <tr>\n",
       "      <th>2010-11-27 07:00:00</th>\n",
       "      <td>77.784494</td>\n",
       "    </tr>\n",
       "    <tr>\n",
       "      <th>2010-11-27 08:00:00</th>\n",
       "      <td>68.066404</td>\n",
       "    </tr>\n",
       "    <tr>\n",
       "      <th>2010-11-27 09:00:00</th>\n",
       "      <td>59.445452</td>\n",
       "    </tr>\n",
       "    <tr>\n",
       "      <th>2010-11-27 10:00:00</th>\n",
       "      <td>50.233114</td>\n",
       "    </tr>\n",
       "    <tr>\n",
       "      <th>2010-11-27 11:00:00</th>\n",
       "      <td>40.586485</td>\n",
       "    </tr>\n",
       "    <tr>\n",
       "      <th>2010-11-27 12:00:00</th>\n",
       "      <td>30.720138</td>\n",
       "    </tr>\n",
       "    <tr>\n",
       "      <th>2010-11-27 13:00:00</th>\n",
       "      <td>17.873350</td>\n",
       "    </tr>\n",
       "    <tr>\n",
       "      <th>2010-11-27 14:00:00</th>\n",
       "      <td>13.297930</td>\n",
       "    </tr>\n",
       "    <tr>\n",
       "      <th>2010-11-27 15:00:00</th>\n",
       "      <td>17.082774</td>\n",
       "    </tr>\n",
       "    <tr>\n",
       "      <th>2010-11-27 16:00:00</th>\n",
       "      <td>31.174126</td>\n",
       "    </tr>\n",
       "    <tr>\n",
       "      <th>2010-11-27 17:00:00</th>\n",
       "      <td>51.968374</td>\n",
       "    </tr>\n",
       "    <tr>\n",
       "      <th>2010-11-27 18:00:00</th>\n",
       "      <td>68.241211</td>\n",
       "    </tr>\n",
       "    <tr>\n",
       "      <th>2010-11-27 19:00:00</th>\n",
       "      <td>68.902619</td>\n",
       "    </tr>\n",
       "    <tr>\n",
       "      <th>2010-11-27 20:00:00</th>\n",
       "      <td>55.180643</td>\n",
       "    </tr>\n",
       "    <tr>\n",
       "      <th>2010-11-27 21:00:00</th>\n",
       "      <td>39.094162</td>\n",
       "    </tr>\n",
       "    <tr>\n",
       "      <th>2010-11-27 22:00:00</th>\n",
       "      <td>27.675923</td>\n",
       "    </tr>\n",
       "    <tr>\n",
       "      <th>2010-11-27 23:00:00</th>\n",
       "      <td>20.288019</td>\n",
       "    </tr>\n",
       "    <tr>\n",
       "      <th>2010-11-28 00:00:00</th>\n",
       "      <td>16.923123</td>\n",
       "    </tr>\n",
       "    <tr>\n",
       "      <th>2010-11-28 01:00:00</th>\n",
       "      <td>18.411632</td>\n",
       "    </tr>\n",
       "    <tr>\n",
       "      <th>2010-11-28 02:00:00</th>\n",
       "      <td>21.078282</td>\n",
       "    </tr>\n",
       "    <tr>\n",
       "      <th>2010-11-28 03:00:00</th>\n",
       "      <td>26.011152</td>\n",
       "    </tr>\n",
       "    <tr>\n",
       "      <th>2010-11-28 04:00:00</th>\n",
       "      <td>35.439803</td>\n",
       "    </tr>\n",
       "    <tr>\n",
       "      <th>2010-11-28 05:00:00</th>\n",
       "      <td>48.133186</td>\n",
       "    </tr>\n",
       "    <tr>\n",
       "      <th>2010-11-28 06:00:00</th>\n",
       "      <td>55.789433</td>\n",
       "    </tr>\n",
       "    <tr>\n",
       "      <th>2010-11-28 07:00:00</th>\n",
       "      <td>57.412722</td>\n",
       "    </tr>\n",
       "  </tbody>\n",
       "</table>\n",
       "</div>"
      ],
      "text/plain": [
       "                     Forecast_LSTM\n",
       "datetime                          \n",
       "2010-11-26 21:00:00       2.804000\n",
       "2010-11-26 22:00:00       9.322278\n",
       "2010-11-26 23:00:00      13.850532\n",
       "2010-11-27 00:00:00      14.306139\n",
       "2010-11-27 01:00:00      17.047348\n",
       "2010-11-27 02:00:00      16.421514\n",
       "2010-11-27 03:00:00      21.195101\n",
       "2010-11-27 04:00:00      24.938005\n",
       "2010-11-27 05:00:00      34.424664\n",
       "2010-11-27 06:00:00      58.233568\n",
       "2010-11-27 07:00:00      77.784494\n",
       "2010-11-27 08:00:00      68.066404\n",
       "2010-11-27 09:00:00      59.445452\n",
       "2010-11-27 10:00:00      50.233114\n",
       "2010-11-27 11:00:00      40.586485\n",
       "2010-11-27 12:00:00      30.720138\n",
       "2010-11-27 13:00:00      17.873350\n",
       "2010-11-27 14:00:00      13.297930\n",
       "2010-11-27 15:00:00      17.082774\n",
       "2010-11-27 16:00:00      31.174126\n",
       "2010-11-27 17:00:00      51.968374\n",
       "2010-11-27 18:00:00      68.241211\n",
       "2010-11-27 19:00:00      68.902619\n",
       "2010-11-27 20:00:00      55.180643\n",
       "2010-11-27 21:00:00      39.094162\n",
       "2010-11-27 22:00:00      27.675923\n",
       "2010-11-27 23:00:00      20.288019\n",
       "2010-11-28 00:00:00      16.923123\n",
       "2010-11-28 01:00:00      18.411632\n",
       "2010-11-28 02:00:00      21.078282\n",
       "2010-11-28 03:00:00      26.011152\n",
       "2010-11-28 04:00:00      35.439803\n",
       "2010-11-28 05:00:00      48.133186\n",
       "2010-11-28 06:00:00      55.789433\n",
       "2010-11-28 07:00:00      57.412722"
      ]
     },
     "execution_count": 28,
     "metadata": {},
     "output_type": "execute_result"
    }
   ],
   "source": [
    "df_forecast.head(35)"
   ]
  },
  {
   "cell_type": "code",
   "execution_count": 29,
   "metadata": {},
   "outputs": [
    {
     "data": {
      "image/png": "[encoded data removed]",
      "text/plain": [
       "<Figure size 432x288 with 1 Axes>"
      ]
     },
     "metadata": {
      "needs_background": "light"
     },
     "output_type": "display_data"
    }
   ],
   "source": [
    "# Plot the forecast values from 26th November 2010 21:00:00 onwards\n",
    "ax = df_forecast.plot()\n",
    "ax = df.Global_active_power['11/23/2010':].plot()\n",
    "ax.set_ylabel('Global Active Power in Kilo Watts')\n",
    "ax.legend()\n",
    "plt.show()"
   ]
  },
  {
   "cell_type": "code",
   "execution_count": 30,
   "metadata": {},
   "outputs": [
    {
     "data": {
      "image/png": "[encoded data removed]",
      "text/plain": [
       "<Figure size 432x288 with 1 Axes>"
      ]
     },
     "metadata": {
      "needs_background": "light"
     },
     "output_type": "display_data"
    }
   ],
   "source": [
    "ax = df_forecast['11/27/2010': '11/29/2010'].plot()\n",
    "ax.set_ylabel('Global Active Power in Kilo Watts')\n",
    "ax.legend()\n",
    "plt.show()"
   ]
  },
  {
   "cell_type": "code",
   "execution_count": 31,
   "metadata": {},
   "outputs": [],
   "source": [
    "model.save('lstm_time_series_model_working.h5')"
   ]
  },
  {
   "cell_type": "code",
   "execution_count": 32,
   "metadata": {},
   "outputs": [],
   "source": [
    "# save the model to disk\n",
    "import pickle\n",
    "\n",
    "filename = 'train_data_for_LSTM_modek.pkl'\n",
    "pickle.dump(df, open(filename, 'wb'))"
   ]
  },
  {
   "cell_type": "code",
   "execution_count": 33,
   "metadata": {},
   "outputs": [],
   "source": [
    "import sapdi\n",
    "import json"
   ]
  },
  {
   "cell_type": "code",
   "execution_count": 34,
   "metadata": {},
   "outputs": [],
   "source": [
    "sc = sapdi.get_current_scenario()"
   ]
  },
  {
   "cell_type": "code",
   "execution_count": 35,
   "metadata": {},
   "outputs": [],
   "source": [
    "run_data =  tracking.get_runs( scenario = sc,notebook = sapdi.scenario.Notebook.get(notebook_id=\"30 Training LSTM Model.ipynb\"))"
   ]
  },
  {
   "cell_type": "code",
   "execution_count": 36,
   "metadata": {},
   "outputs": [],
   "source": [
    "run_json = json.loads(str(run_data))"
   ]
  },
  {
   "cell_type": "code",
   "execution_count": 37,
   "metadata": {},
   "outputs": [],
   "source": [
    "df = pd.DataFrame.from_dict(run_json[0]['metrics'])"
   ]
  },
  {
   "cell_type": "code",
   "execution_count": 38,
   "metadata": {},
   "outputs": [
    {
     "data": {
      "text/html": [
       "<div>\n",
       "<style scoped>\n",
       "    .dataframe tbody tr th:only-of-type {\n",
       "        vertical-align: middle;\n",
       "    }\n",
       "\n",
       "    .dataframe tbody tr th {\n",
       "        vertical-align: top;\n",
       "    }\n",
       "\n",
       "    .dataframe thead th {\n",
       "        text-align: right;\n",
       "    }\n",
       "</style>\n",
       "<table border=\"1\" class=\"dataframe\">\n",
       "  <thead>\n",
       "    <tr style=\"text-align: right;\">\n",
       "      <th></th>\n",
       "      <th>name</th>\n",
       "      <th>timestamp</th>\n",
       "      <th>value</th>\n",
       "    </tr>\n",
       "  </thead>\n",
       "  <tbody>\n",
       "    <tr>\n",
       "      <th>0</th>\n",
       "      <td>RMSE</td>\n",
       "      <td>2020-04-02T17:45:13.533719Z</td>\n",
       "      <td>24.820589</td>\n",
       "    </tr>\n",
       "  </tbody>\n",
       "</table>\n",
       "</div>"
      ],
      "text/plain": [
       "   name                    timestamp      value\n",
       "0  RMSE  2020-04-02T17:45:13.533719Z  24.820589"
      ]
     },
     "execution_count": 38,
     "metadata": {},
     "output_type": "execute_result"
    }
   ],
   "source": [
    "df.head()"
   ]
  },
  {
   "cell_type": "code",
   "execution_count": 39,
   "metadata": {},
   "outputs": [
    {
     "data": {
      "image/png": "[encoded data removed]",
      "text/plain": [
       "<Figure size 432x288 with 1 Axes>"
      ]
     },
     "metadata": {
      "needs_background": "light"
     },
     "output_type": "display_data"
    }
   ],
   "source": [
    "import matplotlib.pyplot as plt\n",
    "plt.scatter(x = df.name , y = df.value )\n",
    "plt.xlabel('metric')\n",
    "plt.ylabel('rmse')\n",
    "plt.show()"
   ]
  },
  {
   "cell_type": "code",
   "execution_count": null,
   "metadata": {},
   "outputs": [],
   "source": []
  }
 ],
 "metadata": {
  "createdAt": "2020-03-25T07:41:13Z",
  "createdBy": "admin",
  "description": "",
  "kernelspec": {
   "display_name": "Python 3",
   "language": "python",
   "name": "python3"
  },
  "language_info": {
   "codemirror_mode": {
    "name": "ipython",
    "version": 3
   },
   "file_extension": ".py",
   "mimetype": "text/x-python",
   "name": "python",
   "nbconvert_exporter": "python",
   "pygments_lexer": "ipython3",
   "version": "3.7.3"
  },
  "modifiedAt": "2020-03-25T07:41:13Z",
  "modifiedBy": "admin",
  "name": "30 Training LSTM Model",
  "scenarioId": "12aa1743-6143-49b1-9be2-b565eba3ddc9"
 },
 "nbformat": 4,
 "nbformat_minor": 4
}
