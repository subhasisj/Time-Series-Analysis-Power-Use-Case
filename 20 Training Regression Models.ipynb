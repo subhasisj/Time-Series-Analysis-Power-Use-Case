{
 "cells": [
  {
   "cell_type": "code",
   "execution_count": 1,
   "metadata": {},
   "outputs": [
    {
     "name": "stdout",
     "output_type": "stream",
     "text": [
      "Requirement already satisfied: xgboost in /opt/conda/lib/python3.7/site-packages (1.0.2)\n",
      "Requirement already satisfied: numpy in /opt/conda/lib/python3.7/site-packages (from xgboost) (1.18.1)\n",
      "Requirement already satisfied: scipy in /opt/conda/lib/python3.7/site-packages (from xgboost) (1.4.1)\n",
      "Requirement already satisfied: sklearn in /opt/conda/lib/python3.7/site-packages (0.0)\n",
      "Requirement already satisfied: scikit-learn in /opt/conda/lib/python3.7/site-packages (from sklearn) (0.22.2.post1)\n",
      "Requirement already satisfied: joblib>=0.11 in /opt/conda/lib/python3.7/site-packages (from scikit-learn->sklearn) (0.14.1)\n",
      "Requirement already satisfied: numpy>=1.11.0 in /opt/conda/lib/python3.7/site-packages (from scikit-learn->sklearn) (1.18.1)\n",
      "Requirement already satisfied: scipy>=0.17.0 in /opt/conda/lib/python3.7/site-packages (from scikit-learn->sklearn) (1.4.1)\n"
     ]
    }
   ],
   "source": [
    "# Please uncomment the below lines if XGBoost / SKlearn are not yet installed\n",
    "\n",
    "!pip install xgboost\n",
    "!pip install sklearn"
   ]
  },
  {
   "cell_type": "markdown",
   "metadata": {},
   "source": [
    "### Import all necessary libraries"
   ]
  },
  {
   "cell_type": "code",
   "execution_count": 2,
   "metadata": {},
   "outputs": [],
   "source": [
    "import pandas as pd\n",
    "import numpy as np\n",
    "from hdfs import InsecureClient\n",
    "from sapdi import tracking\n",
    "\n",
    "from sklearn.metrics import mean_squared_error\n",
    "from sklearn.model_selection import GridSearchCV\n",
    "from sklearn.preprocessing import StandardScaler\n",
    "import xgboost as xgb\n",
    "from sklearn.ensemble import RandomForestRegressor\n",
    "\n",
    "from xgboost import plot_importance\n",
    "%matplotlib inline\n",
    "import matplotlib.pyplot as plt\n",
    "\n",
    "import time\n",
    "from pylab import rcParams\n",
    "rcParams['figure.figsize'] = 10, 7\n",
    "np.random.seed(20)\n",
    "\n",
    "from warnings import filterwarnings\n",
    "filterwarnings('ignore')"
   ]
  },
  {
   "cell_type": "markdown",
   "metadata": {},
   "source": [
    "### Load the dataset that we uploaded using ML Data Manager"
   ]
  },
  {
   "cell_type": "code",
   "execution_count": 3,
   "metadata": {},
   "outputs": [],
   "source": [
    "client = InsecureClient('http://datalake:50070')\n",
    "with client.read('/shared/ml/data/Power_Analysis/Household Power train data/household_power_consumption_hours.csv',\n",
    "                 encoding = 'utf-8') as reader:\n",
    "    \n",
    "    df = pd.read_csv(reader,\n",
    "                     index_col=[0],\n",
    "                     date_parser= pd.to_datetime,\n",
    "                     infer_datetime_format=True,\n",
    "                     low_memory=False\n",
    "                    )"
   ]
  },
  {
   "cell_type": "code",
   "execution_count": 4,
   "metadata": {},
   "outputs": [
    {
     "data": {
      "text/html": [
       "<div>\n",
       "<style scoped>\n",
       "    .dataframe tbody tr th:only-of-type {\n",
       "        vertical-align: middle;\n",
       "    }\n",
       "\n",
       "    .dataframe tbody tr th {\n",
       "        vertical-align: top;\n",
       "    }\n",
       "\n",
       "    .dataframe thead th {\n",
       "        text-align: right;\n",
       "    }\n",
       "</style>\n",
       "<table border=\"1\" class=\"dataframe\">\n",
       "  <thead>\n",
       "    <tr style=\"text-align: right;\">\n",
       "      <th></th>\n",
       "      <th>Global_active_power</th>\n",
       "      <th>Global_reactive_power</th>\n",
       "      <th>Voltage</th>\n",
       "      <th>Global_intensity</th>\n",
       "      <th>Sub_metering_1</th>\n",
       "      <th>Sub_metering_2</th>\n",
       "      <th>Sub_metering_3</th>\n",
       "    </tr>\n",
       "    <tr>\n",
       "      <th>datetime</th>\n",
       "      <th></th>\n",
       "      <th></th>\n",
       "      <th></th>\n",
       "      <th></th>\n",
       "      <th></th>\n",
       "      <th></th>\n",
       "      <th></th>\n",
       "    </tr>\n",
       "  </thead>\n",
       "  <tbody>\n",
       "    <tr>\n",
       "      <th>2006-12-16 17:00:00</th>\n",
       "      <td>152.024</td>\n",
       "      <td>8.244</td>\n",
       "      <td>8447.18</td>\n",
       "      <td>651.6</td>\n",
       "      <td>0.0</td>\n",
       "      <td>19.0</td>\n",
       "      <td>607.0</td>\n",
       "    </tr>\n",
       "    <tr>\n",
       "      <th>2006-12-16 18:00:00</th>\n",
       "      <td>217.932</td>\n",
       "      <td>4.802</td>\n",
       "      <td>14074.81</td>\n",
       "      <td>936.0</td>\n",
       "      <td>0.0</td>\n",
       "      <td>403.0</td>\n",
       "      <td>1012.0</td>\n",
       "    </tr>\n",
       "    <tr>\n",
       "      <th>2006-12-16 19:00:00</th>\n",
       "      <td>204.014</td>\n",
       "      <td>5.114</td>\n",
       "      <td>13993.95</td>\n",
       "      <td>870.2</td>\n",
       "      <td>0.0</td>\n",
       "      <td>86.0</td>\n",
       "      <td>1001.0</td>\n",
       "    </tr>\n",
       "    <tr>\n",
       "      <th>2006-12-16 20:00:00</th>\n",
       "      <td>196.114</td>\n",
       "      <td>4.506</td>\n",
       "      <td>14044.29</td>\n",
       "      <td>835.0</td>\n",
       "      <td>0.0</td>\n",
       "      <td>0.0</td>\n",
       "      <td>1007.0</td>\n",
       "    </tr>\n",
       "    <tr>\n",
       "      <th>2006-12-16 21:00:00</th>\n",
       "      <td>183.388</td>\n",
       "      <td>4.600</td>\n",
       "      <td>14229.52</td>\n",
       "      <td>782.8</td>\n",
       "      <td>0.0</td>\n",
       "      <td>25.0</td>\n",
       "      <td>1033.0</td>\n",
       "    </tr>\n",
       "  </tbody>\n",
       "</table>\n",
       "</div>"
      ],
      "text/plain": [
       "                     Global_active_power  Global_reactive_power   Voltage  \\\n",
       "datetime                                                                    \n",
       "2006-12-16 17:00:00              152.024                  8.244   8447.18   \n",
       "2006-12-16 18:00:00              217.932                  4.802  14074.81   \n",
       "2006-12-16 19:00:00              204.014                  5.114  13993.95   \n",
       "2006-12-16 20:00:00              196.114                  4.506  14044.29   \n",
       "2006-12-16 21:00:00              183.388                  4.600  14229.52   \n",
       "\n",
       "                     Global_intensity  Sub_metering_1  Sub_metering_2  \\\n",
       "datetime                                                                \n",
       "2006-12-16 17:00:00             651.6             0.0            19.0   \n",
       "2006-12-16 18:00:00             936.0             0.0           403.0   \n",
       "2006-12-16 19:00:00             870.2             0.0            86.0   \n",
       "2006-12-16 20:00:00             835.0             0.0             0.0   \n",
       "2006-12-16 21:00:00             782.8             0.0            25.0   \n",
       "\n",
       "                     Sub_metering_3  \n",
       "datetime                             \n",
       "2006-12-16 17:00:00           607.0  \n",
       "2006-12-16 18:00:00          1012.0  \n",
       "2006-12-16 19:00:00          1001.0  \n",
       "2006-12-16 20:00:00          1007.0  \n",
       "2006-12-16 21:00:00          1033.0  "
      ]
     },
     "execution_count": 4,
     "metadata": {},
     "output_type": "execute_result"
    }
   ],
   "source": [
    "df.head()"
   ]
  },
  {
   "cell_type": "markdown",
   "metadata": {},
   "source": [
    "### Prepare the data into a Univariate Time-Series Problem"
   ]
  },
  {
   "cell_type": "code",
   "execution_count": 5,
   "metadata": {},
   "outputs": [
    {
     "data": {
      "text/html": [
       "<div>\n",
       "<style scoped>\n",
       "    .dataframe tbody tr th:only-of-type {\n",
       "        vertical-align: middle;\n",
       "    }\n",
       "\n",
       "    .dataframe tbody tr th {\n",
       "        vertical-align: top;\n",
       "    }\n",
       "\n",
       "    .dataframe thead th {\n",
       "        text-align: right;\n",
       "    }\n",
       "</style>\n",
       "<table border=\"1\" class=\"dataframe\">\n",
       "  <thead>\n",
       "    <tr style=\"text-align: right;\">\n",
       "      <th></th>\n",
       "      <th>Global_active_power</th>\n",
       "    </tr>\n",
       "    <tr>\n",
       "      <th>datetime</th>\n",
       "      <th></th>\n",
       "    </tr>\n",
       "  </thead>\n",
       "  <tbody>\n",
       "    <tr>\n",
       "      <th>2006-12-16 17:00:00</th>\n",
       "      <td>152.024</td>\n",
       "    </tr>\n",
       "    <tr>\n",
       "      <th>2006-12-16 18:00:00</th>\n",
       "      <td>217.932</td>\n",
       "    </tr>\n",
       "    <tr>\n",
       "      <th>2006-12-16 19:00:00</th>\n",
       "      <td>204.014</td>\n",
       "    </tr>\n",
       "    <tr>\n",
       "      <th>2006-12-16 20:00:00</th>\n",
       "      <td>196.114</td>\n",
       "    </tr>\n",
       "    <tr>\n",
       "      <th>2006-12-16 21:00:00</th>\n",
       "      <td>183.388</td>\n",
       "    </tr>\n",
       "  </tbody>\n",
       "</table>\n",
       "</div>"
      ],
      "text/plain": [
       "                     Global_active_power\n",
       "datetime                                \n",
       "2006-12-16 17:00:00              152.024\n",
       "2006-12-16 18:00:00              217.932\n",
       "2006-12-16 19:00:00              204.014\n",
       "2006-12-16 20:00:00              196.114\n",
       "2006-12-16 21:00:00              183.388"
      ]
     },
     "execution_count": 5,
     "metadata": {},
     "output_type": "execute_result"
    }
   ],
   "source": [
    "df_timeseries = pd.DataFrame(df.Global_active_power)\n",
    "df_timeseries.head()"
   ]
  },
  {
   "cell_type": "markdown",
   "metadata": {
    "toc-hr-collapsed": false
   },
   "source": [
    "### Time-Series Feature Engineering"
   ]
  },
  {
   "cell_type": "markdown",
   "metadata": {},
   "source": [
    "#### Create Lag Variable \n",
    "\n",
    "We will create 10 lag variables as new features in our dataset.\n",
    "Our ML model will look into these features to predict the next value\n"
   ]
  },
  {
   "cell_type": "code",
   "execution_count": 6,
   "metadata": {},
   "outputs": [
    {
     "data": {
      "text/html": [
       "<div>\n",
       "<style scoped>\n",
       "    .dataframe tbody tr th:only-of-type {\n",
       "        vertical-align: middle;\n",
       "    }\n",
       "\n",
       "    .dataframe tbody tr th {\n",
       "        vertical-align: top;\n",
       "    }\n",
       "\n",
       "    .dataframe thead th {\n",
       "        text-align: right;\n",
       "    }\n",
       "</style>\n",
       "<table border=\"1\" class=\"dataframe\">\n",
       "  <thead>\n",
       "    <tr style=\"text-align: right;\">\n",
       "      <th></th>\n",
       "      <th>Global_active_power</th>\n",
       "      <th>lag_0</th>\n",
       "      <th>lag_1</th>\n",
       "      <th>lag_2</th>\n",
       "      <th>lag_3</th>\n",
       "      <th>lag_4</th>\n",
       "      <th>lag_5</th>\n",
       "      <th>lag_6</th>\n",
       "      <th>lag_7</th>\n",
       "      <th>lag_8</th>\n",
       "      <th>...</th>\n",
       "      <th>lag_30</th>\n",
       "      <th>lag_31</th>\n",
       "      <th>lag_32</th>\n",
       "      <th>lag_33</th>\n",
       "      <th>lag_34</th>\n",
       "      <th>lag_35</th>\n",
       "      <th>lag_36</th>\n",
       "      <th>lag_37</th>\n",
       "      <th>lag_38</th>\n",
       "      <th>lag_39</th>\n",
       "    </tr>\n",
       "    <tr>\n",
       "      <th>datetime</th>\n",
       "      <th></th>\n",
       "      <th></th>\n",
       "      <th></th>\n",
       "      <th></th>\n",
       "      <th></th>\n",
       "      <th></th>\n",
       "      <th></th>\n",
       "      <th></th>\n",
       "      <th></th>\n",
       "      <th></th>\n",
       "      <th></th>\n",
       "      <th></th>\n",
       "      <th></th>\n",
       "      <th></th>\n",
       "      <th></th>\n",
       "      <th></th>\n",
       "      <th></th>\n",
       "      <th></th>\n",
       "      <th></th>\n",
       "      <th></th>\n",
       "      <th></th>\n",
       "    </tr>\n",
       "  </thead>\n",
       "  <tbody>\n",
       "    <tr>\n",
       "      <th>2006-12-16 17:00:00</th>\n",
       "      <td>152.024</td>\n",
       "      <td>152.024</td>\n",
       "      <td>NaN</td>\n",
       "      <td>NaN</td>\n",
       "      <td>NaN</td>\n",
       "      <td>NaN</td>\n",
       "      <td>NaN</td>\n",
       "      <td>NaN</td>\n",
       "      <td>NaN</td>\n",
       "      <td>NaN</td>\n",
       "      <td>...</td>\n",
       "      <td>NaN</td>\n",
       "      <td>NaN</td>\n",
       "      <td>NaN</td>\n",
       "      <td>NaN</td>\n",
       "      <td>NaN</td>\n",
       "      <td>NaN</td>\n",
       "      <td>NaN</td>\n",
       "      <td>NaN</td>\n",
       "      <td>NaN</td>\n",
       "      <td>NaN</td>\n",
       "    </tr>\n",
       "    <tr>\n",
       "      <th>2006-12-16 18:00:00</th>\n",
       "      <td>217.932</td>\n",
       "      <td>217.932</td>\n",
       "      <td>152.024</td>\n",
       "      <td>NaN</td>\n",
       "      <td>NaN</td>\n",
       "      <td>NaN</td>\n",
       "      <td>NaN</td>\n",
       "      <td>NaN</td>\n",
       "      <td>NaN</td>\n",
       "      <td>NaN</td>\n",
       "      <td>...</td>\n",
       "      <td>NaN</td>\n",
       "      <td>NaN</td>\n",
       "      <td>NaN</td>\n",
       "      <td>NaN</td>\n",
       "      <td>NaN</td>\n",
       "      <td>NaN</td>\n",
       "      <td>NaN</td>\n",
       "      <td>NaN</td>\n",
       "      <td>NaN</td>\n",
       "      <td>NaN</td>\n",
       "    </tr>\n",
       "    <tr>\n",
       "      <th>2006-12-16 19:00:00</th>\n",
       "      <td>204.014</td>\n",
       "      <td>204.014</td>\n",
       "      <td>217.932</td>\n",
       "      <td>152.024</td>\n",
       "      <td>NaN</td>\n",
       "      <td>NaN</td>\n",
       "      <td>NaN</td>\n",
       "      <td>NaN</td>\n",
       "      <td>NaN</td>\n",
       "      <td>NaN</td>\n",
       "      <td>...</td>\n",
       "      <td>NaN</td>\n",
       "      <td>NaN</td>\n",
       "      <td>NaN</td>\n",
       "      <td>NaN</td>\n",
       "      <td>NaN</td>\n",
       "      <td>NaN</td>\n",
       "      <td>NaN</td>\n",
       "      <td>NaN</td>\n",
       "      <td>NaN</td>\n",
       "      <td>NaN</td>\n",
       "    </tr>\n",
       "    <tr>\n",
       "      <th>2006-12-16 20:00:00</th>\n",
       "      <td>196.114</td>\n",
       "      <td>196.114</td>\n",
       "      <td>204.014</td>\n",
       "      <td>217.932</td>\n",
       "      <td>152.024</td>\n",
       "      <td>NaN</td>\n",
       "      <td>NaN</td>\n",
       "      <td>NaN</td>\n",
       "      <td>NaN</td>\n",
       "      <td>NaN</td>\n",
       "      <td>...</td>\n",
       "      <td>NaN</td>\n",
       "      <td>NaN</td>\n",
       "      <td>NaN</td>\n",
       "      <td>NaN</td>\n",
       "      <td>NaN</td>\n",
       "      <td>NaN</td>\n",
       "      <td>NaN</td>\n",
       "      <td>NaN</td>\n",
       "      <td>NaN</td>\n",
       "      <td>NaN</td>\n",
       "    </tr>\n",
       "    <tr>\n",
       "      <th>2006-12-16 21:00:00</th>\n",
       "      <td>183.388</td>\n",
       "      <td>183.388</td>\n",
       "      <td>196.114</td>\n",
       "      <td>204.014</td>\n",
       "      <td>217.932</td>\n",
       "      <td>152.024</td>\n",
       "      <td>NaN</td>\n",
       "      <td>NaN</td>\n",
       "      <td>NaN</td>\n",
       "      <td>NaN</td>\n",
       "      <td>...</td>\n",
       "      <td>NaN</td>\n",
       "      <td>NaN</td>\n",
       "      <td>NaN</td>\n",
       "      <td>NaN</td>\n",
       "      <td>NaN</td>\n",
       "      <td>NaN</td>\n",
       "      <td>NaN</td>\n",
       "      <td>NaN</td>\n",
       "      <td>NaN</td>\n",
       "      <td>NaN</td>\n",
       "    </tr>\n",
       "  </tbody>\n",
       "</table>\n",
       "<p>5 rows × 41 columns</p>\n",
       "</div>"
      ],
      "text/plain": [
       "                     Global_active_power    lag_0    lag_1    lag_2    lag_3  \\\n",
       "datetime                                                                       \n",
       "2006-12-16 17:00:00              152.024  152.024      NaN      NaN      NaN   \n",
       "2006-12-16 18:00:00              217.932  217.932  152.024      NaN      NaN   \n",
       "2006-12-16 19:00:00              204.014  204.014  217.932  152.024      NaN   \n",
       "2006-12-16 20:00:00              196.114  196.114  204.014  217.932  152.024   \n",
       "2006-12-16 21:00:00              183.388  183.388  196.114  204.014  217.932   \n",
       "\n",
       "                       lag_4  lag_5  lag_6  lag_7  lag_8  ...  lag_30  lag_31  \\\n",
       "datetime                                                  ...                   \n",
       "2006-12-16 17:00:00      NaN    NaN    NaN    NaN    NaN  ...     NaN     NaN   \n",
       "2006-12-16 18:00:00      NaN    NaN    NaN    NaN    NaN  ...     NaN     NaN   \n",
       "2006-12-16 19:00:00      NaN    NaN    NaN    NaN    NaN  ...     NaN     NaN   \n",
       "2006-12-16 20:00:00      NaN    NaN    NaN    NaN    NaN  ...     NaN     NaN   \n",
       "2006-12-16 21:00:00  152.024    NaN    NaN    NaN    NaN  ...     NaN     NaN   \n",
       "\n",
       "                     lag_32  lag_33  lag_34  lag_35  lag_36  lag_37  lag_38  \\\n",
       "datetime                                                                      \n",
       "2006-12-16 17:00:00     NaN     NaN     NaN     NaN     NaN     NaN     NaN   \n",
       "2006-12-16 18:00:00     NaN     NaN     NaN     NaN     NaN     NaN     NaN   \n",
       "2006-12-16 19:00:00     NaN     NaN     NaN     NaN     NaN     NaN     NaN   \n",
       "2006-12-16 20:00:00     NaN     NaN     NaN     NaN     NaN     NaN     NaN   \n",
       "2006-12-16 21:00:00     NaN     NaN     NaN     NaN     NaN     NaN     NaN   \n",
       "\n",
       "                     lag_39  \n",
       "datetime                     \n",
       "2006-12-16 17:00:00     NaN  \n",
       "2006-12-16 18:00:00     NaN  \n",
       "2006-12-16 19:00:00     NaN  \n",
       "2006-12-16 20:00:00     NaN  \n",
       "2006-12-16 21:00:00     NaN  \n",
       "\n",
       "[5 rows x 41 columns]"
      ]
     },
     "execution_count": 6,
     "metadata": {},
     "output_type": "execute_result"
    }
   ],
   "source": [
    "lag = 40\n",
    "for i in range(lag):\n",
    "    df_timeseries['lag_{}'.format(i)] = df_timeseries.Global_active_power.shift(i)\n",
    "    \n",
    "df_timeseries.head()"
   ]
  },
  {
   "cell_type": "markdown",
   "metadata": {},
   "source": [
    "The Shift operation will create a lot of missing values (NaN) in the data"
   ]
  },
  {
   "cell_type": "code",
   "execution_count": 7,
   "metadata": {},
   "outputs": [
    {
     "data": {
      "text/plain": [
       "Global_active_power     0\n",
       "lag_0                   0\n",
       "lag_1                   1\n",
       "lag_2                   2\n",
       "lag_3                   3\n",
       "lag_4                   4\n",
       "lag_5                   5\n",
       "lag_6                   6\n",
       "lag_7                   7\n",
       "lag_8                   8\n",
       "lag_9                   9\n",
       "lag_10                 10\n",
       "lag_11                 11\n",
       "lag_12                 12\n",
       "lag_13                 13\n",
       "lag_14                 14\n",
       "lag_15                 15\n",
       "lag_16                 16\n",
       "lag_17                 17\n",
       "lag_18                 18\n",
       "lag_19                 19\n",
       "lag_20                 20\n",
       "lag_21                 21\n",
       "lag_22                 22\n",
       "lag_23                 23\n",
       "lag_24                 24\n",
       "lag_25                 25\n",
       "lag_26                 26\n",
       "lag_27                 27\n",
       "lag_28                 28\n",
       "lag_29                 29\n",
       "lag_30                 30\n",
       "lag_31                 31\n",
       "lag_32                 32\n",
       "lag_33                 33\n",
       "lag_34                 34\n",
       "lag_35                 35\n",
       "lag_36                 36\n",
       "lag_37                 37\n",
       "lag_38                 38\n",
       "lag_39                 39\n",
       "dtype: int64"
      ]
     },
     "execution_count": 7,
     "metadata": {},
     "output_type": "execute_result"
    }
   ],
   "source": [
    "# Check for NaN value in each column\n",
    "df_timeseries.isna().sum()"
   ]
  },
  {
   "cell_type": "markdown",
   "metadata": {},
   "source": [
    "<br>\n",
    "We will remove the rows with missing values and break the dataset into features and labels"
   ]
  },
  {
   "cell_type": "code",
   "execution_count": 8,
   "metadata": {},
   "outputs": [],
   "source": [
    "y = df_timeseries.dropna().Global_active_power\n",
    "X = df_timeseries.dropna().drop(['Global_active_power'],axis =1)"
   ]
  },
  {
   "cell_type": "markdown",
   "metadata": {},
   "source": [
    "### Split the dataset into train and test"
   ]
  },
  {
   "cell_type": "markdown",
   "metadata": {},
   "source": [
    "We take the last 100 observations as Testing data and the remaining as the Training Data"
   ]
  },
  {
   "cell_type": "code",
   "execution_count": 9,
   "metadata": {},
   "outputs": [],
   "source": [
    "X_train = X.iloc[:-100]\n",
    "y_train = y.iloc[:-100]\n",
    "\n",
    "X_test = X.iloc[-100:]\n",
    "y_test = y.iloc[-100:]"
   ]
  },
  {
   "cell_type": "code",
   "execution_count": 10,
   "metadata": {},
   "outputs": [
    {
     "name": "stdout",
     "output_type": "stream",
     "text": [
      "X_train Shape :(34450, 40)\n",
      "y_train Shape :(34450,)\n"
     ]
    }
   ],
   "source": [
    "print('X_train Shape :{}'.format(X_train.shape))\n",
    "print('y_train Shape :{}'.format(y_train.shape))"
   ]
  },
  {
   "cell_type": "code",
   "execution_count": 11,
   "metadata": {},
   "outputs": [
    {
     "name": "stdout",
     "output_type": "stream",
     "text": [
      "X_test Shape :(100, 40)\n",
      "y_test Shape :(100,)\n"
     ]
    }
   ],
   "source": [
    "print('X_test Shape :{}'.format(X_test.shape))\n",
    "print('y_test Shape :{}'.format(y_test.shape))"
   ]
  },
  {
   "cell_type": "markdown",
   "metadata": {},
   "source": [
    "### Scaling the data\n",
    "\n",
    "Standardization of a dataset is a common requirement for many machine learning estimators as they might behave badly if the individual features do not more or less look like standard normally distributed data (e.g. Gaussian with 0 mean and unit variance)."
   ]
  },
  {
   "cell_type": "code",
   "execution_count": 12,
   "metadata": {},
   "outputs": [],
   "source": [
    "scaler = StandardScaler()\n",
    "X_train_scaled = scaler.fit_transform(X_train)\n",
    "X_test_scaled = scaler.transform(X_test)"
   ]
  },
  {
   "cell_type": "markdown",
   "metadata": {
    "toc-hr-collapsed": false
   },
   "source": [
    "### Model Training"
   ]
  },
  {
   "cell_type": "markdown",
   "metadata": {},
   "source": [
    "#### XGBoost"
   ]
  },
  {
   "cell_type": "code",
   "execution_count": 13,
   "metadata": {},
   "outputs": [
    {
     "name": "stdout",
     "output_type": "stream",
     "text": [
      "[0]\tvalidation_0-rmse:57.91327\n",
      "Will train until validation_0-rmse hasn't improved in 5 rounds.\n",
      "[1]\tvalidation_0-rmse:40.53788\n",
      "[2]\tvalidation_0-rmse:28.40465\n",
      "[3]\tvalidation_0-rmse:19.85997\n",
      "[4]\tvalidation_0-rmse:13.91258\n",
      "[5]\tvalidation_0-rmse:9.76703\n",
      "[6]\tvalidation_0-rmse:6.83741\n",
      "[7]\tvalidation_0-rmse:4.80959\n",
      "[8]\tvalidation_0-rmse:3.40716\n",
      "[9]\tvalidation_0-rmse:2.44090\n",
      "[10]\tvalidation_0-rmse:1.77079\n",
      "[11]\tvalidation_0-rmse:1.31502\n",
      "[12]\tvalidation_0-rmse:1.02060\n",
      "[13]\tvalidation_0-rmse:0.82754\n",
      "[14]\tvalidation_0-rmse:0.72170\n",
      "[15]\tvalidation_0-rmse:0.64622\n",
      "[16]\tvalidation_0-rmse:0.60984\n",
      "[17]\tvalidation_0-rmse:0.59326\n",
      "[18]\tvalidation_0-rmse:0.58180\n",
      "[19]\tvalidation_0-rmse:0.57712\n",
      "[20]\tvalidation_0-rmse:0.57430\n",
      "[21]\tvalidation_0-rmse:0.56452\n",
      "[22]\tvalidation_0-rmse:0.56343\n",
      "[23]\tvalidation_0-rmse:0.56315\n",
      "[24]\tvalidation_0-rmse:0.56114\n",
      "[25]\tvalidation_0-rmse:0.55779\n",
      "[26]\tvalidation_0-rmse:0.55776\n",
      "[27]\tvalidation_0-rmse:0.55782\n",
      "[28]\tvalidation_0-rmse:0.55787\n",
      "[29]\tvalidation_0-rmse:0.55724\n",
      "[30]\tvalidation_0-rmse:0.55727\n",
      "[31]\tvalidation_0-rmse:0.55728\n",
      "[32]\tvalidation_0-rmse:0.55717\n",
      "[33]\tvalidation_0-rmse:0.55103\n",
      "[34]\tvalidation_0-rmse:0.55104\n",
      "[35]\tvalidation_0-rmse:0.55100\n",
      "[36]\tvalidation_0-rmse:0.55105\n",
      "[37]\tvalidation_0-rmse:0.54919\n",
      "[38]\tvalidation_0-rmse:0.54930\n",
      "[39]\tvalidation_0-rmse:0.54931\n",
      "[40]\tvalidation_0-rmse:0.54887\n",
      "[41]\tvalidation_0-rmse:0.54402\n",
      "[42]\tvalidation_0-rmse:0.54258\n",
      "[43]\tvalidation_0-rmse:0.54146\n",
      "[44]\tvalidation_0-rmse:0.54146\n",
      "[45]\tvalidation_0-rmse:0.54145\n",
      "[46]\tvalidation_0-rmse:0.54159\n",
      "[47]\tvalidation_0-rmse:0.54047\n",
      "[48]\tvalidation_0-rmse:0.54053\n",
      "[49]\tvalidation_0-rmse:0.53597\n",
      "[50]\tvalidation_0-rmse:0.53508\n",
      "[51]\tvalidation_0-rmse:0.53507\n",
      "[52]\tvalidation_0-rmse:0.53510\n",
      "[53]\tvalidation_0-rmse:0.53518\n",
      "[54]\tvalidation_0-rmse:0.53518\n",
      "[55]\tvalidation_0-rmse:0.53518\n",
      "[56]\tvalidation_0-rmse:0.53516\n",
      "Stopping. Best iteration:\n",
      "[51]\tvalidation_0-rmse:0.53507\n",
      "\n",
      "\n",
      "XGBoost Model Training Completed in 27.769118070602417 seconds\n"
     ]
    }
   ],
   "source": [
    "start = time.time()\n",
    "\n",
    "# Initialize SAP DI Tracking \n",
    "run = tracking.start_run(run_collection_name='power_consumption_run')\n",
    "\n",
    "eval_set = [(X_test_scaled, y_test)]\n",
    "\n",
    "# create XGBoost Regressor model\n",
    "xgb_model = xgb.XGBRegressor()\n",
    "\n",
    "# Start training\n",
    "xgb_model.fit(X_train_scaled,\n",
    "          y_train,\n",
    "          eval_metric=\"rmse\",\n",
    "          eval_set=eval_set,\n",
    "          early_stopping_rounds=5,\n",
    "          verbose=True)\n",
    "\n",
    "# Tracking Parameters\n",
    "tracking.log_parameters(parameters=xgb_model.get_xgb_params())\n",
    "\n",
    "tracking.log_parameters(parameters = {'random_seed': 20})\n",
    "\n",
    "print('\\nXGBoost Model Training Completed in {} seconds'.format(time.time()-start))"
   ]
  },
  {
   "cell_type": "code",
   "execution_count": 14,
   "metadata": {},
   "outputs": [],
   "source": [
    "# Log Metric \n",
    "tracking.log_metric('RMSE' , xgb_model.best_score )"
   ]
  },
  {
   "cell_type": "code",
   "execution_count": 15,
   "metadata": {},
   "outputs": [
    {
     "name": "stdout",
     "output_type": "stream",
     "text": [
      "Best RMSE for XGBoost model with Test Set: 0.535075\n"
     ]
    }
   ],
   "source": [
    "print('Best RMSE for XGBoost model with Test Set: {}'.format(xgb_model.best_score))"
   ]
  },
  {
   "cell_type": "code",
   "execution_count": 16,
   "metadata": {},
   "outputs": [],
   "source": [
    "# Set tags\n",
    "tracking.set_tags({\n",
    "    \"model\" : \"XGboostRegressor\"\n",
    "})\n",
    "\n",
    "tracking.end_run()"
   ]
  },
  {
   "cell_type": "code",
   "execution_count": 17,
   "metadata": {},
   "outputs": [],
   "source": [
    "df_actual_and_predicted = pd.DataFrame(index=X_test.index)\n",
    "df_actual_and_predicted['actual'] = y_test\n",
    "df_actual_and_predicted['XGboost_preds'] = xgb_model.predict(X_test_scaled)"
   ]
  },
  {
   "cell_type": "markdown",
   "metadata": {},
   "source": [
    "##### Lets forecast for future periods"
   ]
  },
  {
   "cell_type": "code",
   "execution_count": 18,
   "metadata": {},
   "outputs": [],
   "source": [
    "def generate_future_timestamps(num_prediction):\n",
    "    last_date = df_timeseries.index[-1]\n",
    "    prediction_dates = pd.date_range(last_date,freq='H', periods=num_prediction).tolist()\n",
    "    return prediction_dates\n",
    "\n",
    "forecast_dates = generate_future_timestamps(40)"
   ]
  },
  {
   "cell_type": "code",
   "execution_count": 19,
   "metadata": {},
   "outputs": [],
   "source": [
    "X_scaled = scaler.transform(X)\n",
    "\n",
    "last_row = X.iloc[-1]"
   ]
  },
  {
   "cell_type": "code",
   "execution_count": 20,
   "metadata": {},
   "outputs": [],
   "source": [
    "# This function forecasts recursively by predicting one value and then combining it with \n",
    "# previous values to forecast next values\n",
    "\n",
    "def generate_forecasts(model, n_periods_to_forecast, row_to_begin_forecast, scaler_object, scaled_data ):\n",
    "    \n",
    "    begin_scaled_row_for_pred = scaled_data[-1:]\n",
    "    \n",
    "    forecasts = list()\n",
    "    for i in range(n_periods_to_forecast):\n",
    "        forecast = model.predict(begin_scaled_row_for_pred)\n",
    "        next_row = row_to_begin_forecast.shift(-1).fillna(forecast[0])\n",
    "        begin_scaled_row_for_pred = np.array(scaler_object.transform([next_row]))\n",
    "        row_to_begin_forecast = next_row\n",
    "        forecasts.append(forecast[0])\n",
    "            \n",
    "    return forecasts"
   ]
  },
  {
   "cell_type": "code",
   "execution_count": 21,
   "metadata": {},
   "outputs": [],
   "source": [
    "xg_future_forecasts = generate_forecasts(model=xgb_model,\n",
    "                                  n_periods_to_forecast=40,\n",
    "                                  row_to_begin_forecast=last_row,\n",
    "                                  scaler_object=scaler,\n",
    "                                  scaled_data=X_scaled\n",
    "                                 )"
   ]
  },
  {
   "cell_type": "code",
   "execution_count": 22,
   "metadata": {},
   "outputs": [],
   "source": [
    "df_future_forecasts = pd.DataFrame()\n",
    "df_future_forecasts['datetime'] = forecast_dates[1:]\n",
    "df_future_forecasts['xgboost_predictions'] = xg_future_forecasts[1:]"
   ]
  },
  {
   "cell_type": "code",
   "execution_count": 23,
   "metadata": {},
   "outputs": [
    {
     "name": "stdout",
     "output_type": "stream",
     "text": [
      "<class 'pandas.core.frame.DataFrame'>\n",
      "RangeIndex: 39 entries, 0 to 38\n",
      "Data columns (total 2 columns):\n",
      " #   Column               Non-Null Count  Dtype         \n",
      "---  ------               --------------  -----         \n",
      " 0   datetime             39 non-null     datetime64[ns]\n",
      " 1   xgboost_predictions  39 non-null     float64       \n",
      "dtypes: datetime64[ns](1), float64(1)\n",
      "memory usage: 752.0 bytes\n"
     ]
    }
   ],
   "source": [
    "df_future_forecasts.info()"
   ]
  },
  {
   "cell_type": "code",
   "execution_count": 24,
   "metadata": {},
   "outputs": [],
   "source": [
    "df_future_forecasts.set_index('datetime',inplace=True)"
   ]
  },
  {
   "cell_type": "code",
   "execution_count": 25,
   "metadata": {},
   "outputs": [
    {
     "data": {
      "text/plain": [
       "<Figure size 720x864 with 0 Axes>"
      ]
     },
     "metadata": {},
     "output_type": "display_data"
    },
    {
     "data": {
      "image/png": "[encoded data removed]",
      "text/plain": [
       "<Figure size 432x288 with 1 Axes>"
      ]
     },
     "metadata": {
      "needs_background": "light"
     },
     "output_type": "display_data"
    }
   ],
   "source": [
    "plt.figure(figsize=(10,12))\n",
    "ax = df_future_forecasts.plot(color = 'cornflowerblue')\n",
    "ax = df_timeseries['11/23/2010':].Global_active_power.plot(color = 'firebrick')\n",
    "ax.set_ylabel('Global Active Power in Kilo Watts')\n",
    "ax.legend()\n",
    "plt.show()"
   ]
  },
  {
   "cell_type": "code",
   "execution_count": 26,
   "metadata": {},
   "outputs": [
    {
     "data": {
      "image/png": "[encoded data removed]",
      "text/plain": [
       "<Figure size 432x288 with 1 Axes>"
      ]
     },
     "metadata": {
      "needs_background": "light"
     },
     "output_type": "display_data"
    }
   ],
   "source": [
    "ax = df_future_forecasts['11/27/2010': '11/29/2010'].xgboost_predictions.plot()\n",
    "ax.set_ylabel('Global Active Power in Kilo Watts')\n",
    "ax.legend()\n",
    "plt.show()"
   ]
  },
  {
   "cell_type": "code",
   "execution_count": 27,
   "metadata": {},
   "outputs": [],
   "source": [
    "# Save trained model to disk\n",
    "import pickle\n",
    "filename = 'XGBoost_model_for_power_consumption.pkl'\n",
    "pickle.dump(xgb_model, open(filename, 'wb'))"
   ]
  },
  {
   "cell_type": "code",
   "execution_count": 28,
   "metadata": {},
   "outputs": [],
   "source": [
    "# Save training data to disk for inference usage\n",
    "filename = 'inference_data_for_regression_models.pkl'\n",
    "pickle.dump(X, open(filename, 'wb'))"
   ]
  },
  {
   "cell_type": "markdown",
   "metadata": {},
   "source": [
    "### Random Forest"
   ]
  },
  {
   "cell_type": "code",
   "execution_count": 29,
   "metadata": {},
   "outputs": [
    {
     "name": "stdout",
     "output_type": "stream",
     "text": [
      "Random Forest Model Training Completed in 111.8310763835907 seconds\n"
     ]
    }
   ],
   "source": [
    "# Start training \n",
    "start = time.time()\n",
    "\n",
    "run = tracking.start_run(run_collection_name='power_consumption_run')\n",
    "\n",
    "randomforest_model = RandomForestRegressor()\n",
    "randomforest_model.fit(X_train_scaled,y_train)\n",
    "tracking.log_parameters(parameters=randomforest_model.get_params())\n",
    "\n",
    "print('Random Forest Model Training Completed in {} seconds'.format(time.time()-start))"
   ]
  },
  {
   "cell_type": "code",
   "execution_count": 30,
   "metadata": {},
   "outputs": [],
   "source": [
    "randomforest_predictions = randomforest_model.predict(X_test_scaled)"
   ]
  },
  {
   "cell_type": "code",
   "execution_count": 31,
   "metadata": {},
   "outputs": [],
   "source": [
    "df_actual_and_predicted['randomforest_predictions'] = randomforest_predictions"
   ]
  },
  {
   "cell_type": "code",
   "execution_count": 32,
   "metadata": {},
   "outputs": [],
   "source": [
    "randomforest_rmse = np.sqrt(mean_squared_error(df_actual_and_predicted.actual, df_actual_and_predicted.randomforest_predictions))"
   ]
  },
  {
   "cell_type": "code",
   "execution_count": 33,
   "metadata": {},
   "outputs": [
    {
     "name": "stdout",
     "output_type": "stream",
     "text": [
      "RMSE with RandomForest is 0.4815740359487824\n"
     ]
    }
   ],
   "source": [
    "from sklearn.metrics import mean_squared_error\n",
    "print('RMSE with RandomForest is {}'.format(randomforest_rmse))"
   ]
  },
  {
   "cell_type": "code",
   "execution_count": 34,
   "metadata": {},
   "outputs": [],
   "source": [
    "# Log Metric\n",
    "tracking.log_metric('RMSE' ,randomforest_rmse )"
   ]
  },
  {
   "cell_type": "code",
   "execution_count": 35,
   "metadata": {},
   "outputs": [],
   "source": [
    "tracking.set_tags({\n",
    "    \"model\" : \"RandomForestRegressor\"\n",
    "})\n",
    "\n",
    "tracking.end_run()"
   ]
  },
  {
   "cell_type": "code",
   "execution_count": 36,
   "metadata": {},
   "outputs": [],
   "source": [
    "randomforest_future_forecasts = generate_forecasts(model=randomforest_model,\n",
    "                                                   n_periods_to_forecast=40,\n",
    "                                                   row_to_begin_forecast=last_row,\n",
    "                                                   scaler_object=scaler,\n",
    "                                                   scaled_data=X_scaled\n",
    "                                                  )"
   ]
  },
  {
   "cell_type": "code",
   "execution_count": 37,
   "metadata": {},
   "outputs": [],
   "source": [
    "df_future_forecasts['randomforest_predictions'] = randomforest_future_forecasts[1:]"
   ]
  },
  {
   "cell_type": "code",
   "execution_count": 38,
   "metadata": {},
   "outputs": [
    {
     "data": {
      "text/html": [
       "<div>\n",
       "<style scoped>\n",
       "    .dataframe tbody tr th:only-of-type {\n",
       "        vertical-align: middle;\n",
       "    }\n",
       "\n",
       "    .dataframe tbody tr th {\n",
       "        vertical-align: top;\n",
       "    }\n",
       "\n",
       "    .dataframe thead th {\n",
       "        text-align: right;\n",
       "    }\n",
       "</style>\n",
       "<table border=\"1\" class=\"dataframe\">\n",
       "  <thead>\n",
       "    <tr style=\"text-align: right;\">\n",
       "      <th></th>\n",
       "      <th>xgboost_predictions</th>\n",
       "      <th>randomforest_predictions</th>\n",
       "    </tr>\n",
       "    <tr>\n",
       "      <th>datetime</th>\n",
       "      <th></th>\n",
       "      <th></th>\n",
       "    </tr>\n",
       "  </thead>\n",
       "  <tbody>\n",
       "    <tr>\n",
       "      <th>2010-11-26 22:00:00</th>\n",
       "      <td>69.779823</td>\n",
       "      <td>69.82384</td>\n",
       "    </tr>\n",
       "    <tr>\n",
       "      <th>2010-11-26 23:00:00</th>\n",
       "      <td>99.792633</td>\n",
       "      <td>99.55580</td>\n",
       "    </tr>\n",
       "    <tr>\n",
       "      <th>2010-11-27 00:00:00</th>\n",
       "      <td>94.750786</td>\n",
       "      <td>94.41286</td>\n",
       "    </tr>\n",
       "    <tr>\n",
       "      <th>2010-11-27 01:00:00</th>\n",
       "      <td>103.236877</td>\n",
       "      <td>103.54388</td>\n",
       "    </tr>\n",
       "    <tr>\n",
       "      <th>2010-11-27 02:00:00</th>\n",
       "      <td>63.878429</td>\n",
       "      <td>64.08582</td>\n",
       "    </tr>\n",
       "  </tbody>\n",
       "</table>\n",
       "</div>"
      ],
      "text/plain": [
       "                     xgboost_predictions  randomforest_predictions\n",
       "datetime                                                          \n",
       "2010-11-26 22:00:00            69.779823                  69.82384\n",
       "2010-11-26 23:00:00            99.792633                  99.55580\n",
       "2010-11-27 00:00:00            94.750786                  94.41286\n",
       "2010-11-27 01:00:00           103.236877                 103.54388\n",
       "2010-11-27 02:00:00            63.878429                  64.08582"
      ]
     },
     "execution_count": 38,
     "metadata": {},
     "output_type": "execute_result"
    }
   ],
   "source": [
    "df_future_forecasts.head()"
   ]
  },
  {
   "cell_type": "code",
   "execution_count": 39,
   "metadata": {},
   "outputs": [
    {
     "data": {
      "image/png": "[encoded data removed]",
      "text/plain": [
       "<Figure size 432x288 with 1 Axes>"
      ]
     },
     "metadata": {
      "needs_background": "light"
     },
     "output_type": "display_data"
    }
   ],
   "source": [
    "ax = df_future_forecasts.xgboost_predictions.plot( linewidth=4, linestyle='--',color = 'r')\n",
    "ax = df_future_forecasts.randomforest_predictions.plot(linewidth=2, linestyle='dashed',color = 'b' )\n",
    "ax = df_timeseries['11/23/2010':].Global_active_power.plot()\n",
    "ax.set_ylabel('Global Active Power in Kilo Watts')\n",
    "ax.legend()\n",
    "plt.show()"
   ]
  },
  {
   "cell_type": "markdown",
   "metadata": {},
   "source": [
    "#### We can see that predictions / forecasts from both the models are overlapping and also have similar RMSE values. "
   ]
  },
  {
   "cell_type": "code",
   "execution_count": 40,
   "metadata": {},
   "outputs": [],
   "source": [
    "filename = 'Random_Forest_model_for_power_consumption.pkl'\n",
    "pickle.dump(randomforest_model, open(filename, 'wb'))"
   ]
  },
  {
   "cell_type": "markdown",
   "metadata": {},
   "source": [
    "#### Plot Metrics from Tracking SDK"
   ]
  },
  {
   "cell_type": "code",
   "execution_count": 41,
   "metadata": {},
   "outputs": [],
   "source": [
    "import sapdi\n",
    "import json"
   ]
  },
  {
   "cell_type": "code",
   "execution_count": 42,
   "metadata": {},
   "outputs": [],
   "source": [
    "sc = sapdi.get_current_scenario()"
   ]
  },
  {
   "cell_type": "code",
   "execution_count": 44,
   "metadata": {},
   "outputs": [],
   "source": [
    "run_data =  tracking.get_runs( scenario = sc,notebook = sapdi.scenario.Notebook.get(notebook_id=r\"20 Training Regression Models.ipynb\"))"
   ]
  },
  {
   "cell_type": "code",
   "execution_count": 45,
   "metadata": {},
   "outputs": [],
   "source": [
    "run_json = json.loads(str(run_data))"
   ]
  },
  {
   "cell_type": "code",
   "execution_count": 66,
   "metadata": {},
   "outputs": [],
   "source": [
    "df = pd.DataFrame.from_dict(run_json[0]['metrics'])"
   ]
  },
  {
   "cell_type": "code",
   "execution_count": 67,
   "metadata": {},
   "outputs": [],
   "source": [
    "df = pd.concat([df ,pd.DataFrame.from_dict(run_json[1]['metrics'])])\n",
    "df = df.reset_index(drop=True)"
   ]
  },
  {
   "cell_type": "code",
   "execution_count": 69,
   "metadata": {},
   "outputs": [],
   "source": [
    "s = pd.Series([run_json[0]['id'],run_json[1]['id']])\n",
    "df.insert(1,'run_id',s)"
   ]
  },
  {
   "cell_type": "code",
   "execution_count": 70,
   "metadata": {},
   "outputs": [],
   "source": [
    "models = pd.Series([run_json[0]['tags'].get('model'),run_json[1]['tags'].get('model')])\n",
    "df.insert(1,'tags',models)"
   ]
  },
  {
   "cell_type": "code",
   "execution_count": 71,
   "metadata": {},
   "outputs": [
    {
     "data": {
      "text/html": [
       "<div>\n",
       "<style scoped>\n",
       "    .dataframe tbody tr th:only-of-type {\n",
       "        vertical-align: middle;\n",
       "    }\n",
       "\n",
       "    .dataframe tbody tr th {\n",
       "        vertical-align: top;\n",
       "    }\n",
       "\n",
       "    .dataframe thead th {\n",
       "        text-align: right;\n",
       "    }\n",
       "</style>\n",
       "<table border=\"1\" class=\"dataframe\">\n",
       "  <thead>\n",
       "    <tr style=\"text-align: right;\">\n",
       "      <th></th>\n",
       "      <th>name</th>\n",
       "      <th>tags</th>\n",
       "      <th>run_id</th>\n",
       "      <th>timestamp</th>\n",
       "      <th>value</th>\n",
       "    </tr>\n",
       "  </thead>\n",
       "  <tbody>\n",
       "    <tr>\n",
       "      <th>0</th>\n",
       "      <td>RMSE</td>\n",
       "      <td>XGboostRegressor</td>\n",
       "      <td>ea9709f9-627a-45ce-bc43-bc14366b3856</td>\n",
       "      <td>2020-04-02T05:41:53.206537Z</td>\n",
       "      <td>0.535075</td>\n",
       "    </tr>\n",
       "    <tr>\n",
       "      <th>1</th>\n",
       "      <td>RMSE</td>\n",
       "      <td>RandomForestRegressor</td>\n",
       "      <td>35a4eb2d-16e6-42a6-b588-f5b0d8484862</td>\n",
       "      <td>2020-04-02T05:43:47.321461Z</td>\n",
       "      <td>0.481574</td>\n",
       "    </tr>\n",
       "  </tbody>\n",
       "</table>\n",
       "</div>"
      ],
      "text/plain": [
       "   name                   tags                                run_id  \\\n",
       "0  RMSE       XGboostRegressor  ea9709f9-627a-45ce-bc43-bc14366b3856   \n",
       "1  RMSE  RandomForestRegressor  35a4eb2d-16e6-42a6-b588-f5b0d8484862   \n",
       "\n",
       "                     timestamp     value  \n",
       "0  2020-04-02T05:41:53.206537Z  0.535075  \n",
       "1  2020-04-02T05:43:47.321461Z  0.481574  "
      ]
     },
     "execution_count": 71,
     "metadata": {},
     "output_type": "execute_result"
    }
   ],
   "source": [
    "df"
   ]
  },
  {
   "cell_type": "code",
   "execution_count": 72,
   "metadata": {},
   "outputs": [
    {
     "data": {
      "image/png": "[encoded data removed]",
      "text/plain": [
       "<Figure size 432x288 with 1 Axes>"
      ]
     },
     "metadata": {
      "needs_background": "light"
     },
     "output_type": "display_data"
    }
   ],
   "source": [
    "import matplotlib.pyplot as plt\n",
    "plt.scatter(x = df.tags , y = df.value )\n",
    "plt.xlabel('tags')\n",
    "plt.ylabel('rmse')\n",
    "plt.show()"
   ]
  },
  {
   "cell_type": "code",
   "execution_count": null,
   "metadata": {},
   "outputs": [],
   "source": []
  }
 ],
 "metadata": {
  "createdAt": "2020-04-02T05:40:06Z",
  "createdBy": "subhasis",
  "description": "",
  "kernelspec": {
   "display_name": "Python 3",
   "language": "python",
   "name": "python3"
  },
  "language_info": {
   "codemirror_mode": {
    "name": "ipython",
    "version": 3
   },
   "file_extension": ".py",
   "mimetype": "text/x-python",
   "name": "python",
   "nbconvert_exporter": "python",
   "pygments_lexer": "ipython3",
   "version": "3.7.3"
  },
  "modifiedAt": "2020-04-02T05:40:06Z",
  "modifiedBy": "subhasis",
  "name": "20 Training Regression Models",
  "scenarioId": "ffbbb5b1-b394-4528-82dd-df5ff8b841e5"
 },
 "nbformat": 4,
 "nbformat_minor": 4
}
